{
 "cells": [
  {
   "cell_type": "markdown",
   "metadata": {},
   "source": [
    "#  Regression on House Pricing Dataset: Variable Selection & Regularization\n",
    "We consider a reduced version of a dataset containing house sale prices for King County, which includes Seattle. It includes homes sold between May 2014 and May 2015.\n",
    "\n",
    "[https://www.kaggle.com/harlfoxem/housesalesprediction]\n",
    "\n",
    "For each house we know 18 house features (e.g., number of bedrooms, number of bathrooms, etc.) plus its price, that is what we would like to predict."
   ]
  },
  {
   "cell_type": "markdown",
   "metadata": {},
   "source": [
    "## TO DO 1: insert your ID number (\"numero di matricola\") below"
   ]
  },
  {
   "cell_type": "code",
   "execution_count": 216,
   "metadata": {},
   "outputs": [],
   "source": [
    "#put here your ``numero di matricola''\n",
    "numero_di_matricola = 1231829# COMPLETE "
   ]
  },
  {
   "cell_type": "code",
   "execution_count": 217,
   "metadata": {},
   "outputs": [],
   "source": [
    "#import all packages needed\n",
    "%matplotlib inline\n",
    "import pandas as pd\n",
    "import numpy as np\n",
    "import matplotlib.pyplot as plt"
   ]
  },
  {
   "cell_type": "markdown",
   "metadata": {},
   "source": [
    "Load the data, remove data samples/points with missing values (NaN) and take a look at them."
   ]
  },
  {
   "cell_type": "code",
   "execution_count": 218,
   "metadata": {},
   "outputs": [
    {
     "data": {
      "text/html": [
       "<div>\n",
       "<style scoped>\n",
       "    .dataframe tbody tr th:only-of-type {\n",
       "        vertical-align: middle;\n",
       "    }\n",
       "\n",
       "    .dataframe tbody tr th {\n",
       "        vertical-align: top;\n",
       "    }\n",
       "\n",
       "    .dataframe thead th {\n",
       "        text-align: right;\n",
       "    }\n",
       "</style>\n",
       "<table border=\"1\" class=\"dataframe\">\n",
       "  <thead>\n",
       "    <tr style=\"text-align: right;\">\n",
       "      <th></th>\n",
       "      <th>id</th>\n",
       "      <th>price</th>\n",
       "      <th>bedrooms</th>\n",
       "      <th>bathrooms</th>\n",
       "      <th>sqft_living</th>\n",
       "      <th>sqft_lot</th>\n",
       "      <th>floors</th>\n",
       "      <th>waterfront</th>\n",
       "      <th>view</th>\n",
       "      <th>condition</th>\n",
       "      <th>grade</th>\n",
       "      <th>sqft_above</th>\n",
       "      <th>sqft_basement</th>\n",
       "      <th>yr_built</th>\n",
       "      <th>yr_renovated</th>\n",
       "      <th>zipcode</th>\n",
       "      <th>lat</th>\n",
       "      <th>long</th>\n",
       "      <th>sqft_living15</th>\n",
       "      <th>sqft_lot15</th>\n",
       "    </tr>\n",
       "  </thead>\n",
       "  <tbody>\n",
       "    <tr>\n",
       "      <td>count</td>\n",
       "      <td>3.164000e+03</td>\n",
       "      <td>3.164000e+03</td>\n",
       "      <td>3164.000000</td>\n",
       "      <td>3164.000000</td>\n",
       "      <td>3164.000000</td>\n",
       "      <td>3.164000e+03</td>\n",
       "      <td>3164.000000</td>\n",
       "      <td>3164.000000</td>\n",
       "      <td>3164.000000</td>\n",
       "      <td>3164.000000</td>\n",
       "      <td>3164.000000</td>\n",
       "      <td>3164.000000</td>\n",
       "      <td>3164.000000</td>\n",
       "      <td>3164.000000</td>\n",
       "      <td>3164.000000</td>\n",
       "      <td>3164.000000</td>\n",
       "      <td>3164.000000</td>\n",
       "      <td>3164.000000</td>\n",
       "      <td>3164.000000</td>\n",
       "      <td>3164.000000</td>\n",
       "    </tr>\n",
       "    <tr>\n",
       "      <td>mean</td>\n",
       "      <td>4.645240e+09</td>\n",
       "      <td>5.354358e+05</td>\n",
       "      <td>3.381163</td>\n",
       "      <td>2.071903</td>\n",
       "      <td>2070.027813</td>\n",
       "      <td>1.525054e+04</td>\n",
       "      <td>1.434893</td>\n",
       "      <td>0.009798</td>\n",
       "      <td>0.244311</td>\n",
       "      <td>3.459229</td>\n",
       "      <td>7.615676</td>\n",
       "      <td>1761.252212</td>\n",
       "      <td>308.775601</td>\n",
       "      <td>1967.489254</td>\n",
       "      <td>94.668774</td>\n",
       "      <td>98077.125158</td>\n",
       "      <td>47.557868</td>\n",
       "      <td>-122.212337</td>\n",
       "      <td>1982.544564</td>\n",
       "      <td>13176.302465</td>\n",
       "    </tr>\n",
       "    <tr>\n",
       "      <td>std</td>\n",
       "      <td>2.854203e+09</td>\n",
       "      <td>3.809004e+05</td>\n",
       "      <td>0.895472</td>\n",
       "      <td>0.768212</td>\n",
       "      <td>920.251879</td>\n",
       "      <td>4.254457e+04</td>\n",
       "      <td>0.507792</td>\n",
       "      <td>0.098513</td>\n",
       "      <td>0.776298</td>\n",
       "      <td>0.682592</td>\n",
       "      <td>1.166324</td>\n",
       "      <td>815.934864</td>\n",
       "      <td>458.977904</td>\n",
       "      <td>28.095275</td>\n",
       "      <td>424.439427</td>\n",
       "      <td>54.172937</td>\n",
       "      <td>0.140789</td>\n",
       "      <td>0.139577</td>\n",
       "      <td>686.256670</td>\n",
       "      <td>25413.180755</td>\n",
       "    </tr>\n",
       "    <tr>\n",
       "      <td>min</td>\n",
       "      <td>1.000102e+06</td>\n",
       "      <td>7.500000e+04</td>\n",
       "      <td>0.000000</td>\n",
       "      <td>0.000000</td>\n",
       "      <td>380.000000</td>\n",
       "      <td>6.490000e+02</td>\n",
       "      <td>1.000000</td>\n",
       "      <td>0.000000</td>\n",
       "      <td>0.000000</td>\n",
       "      <td>1.000000</td>\n",
       "      <td>3.000000</td>\n",
       "      <td>380.000000</td>\n",
       "      <td>0.000000</td>\n",
       "      <td>1900.000000</td>\n",
       "      <td>0.000000</td>\n",
       "      <td>98001.000000</td>\n",
       "      <td>47.177500</td>\n",
       "      <td>-122.514000</td>\n",
       "      <td>620.000000</td>\n",
       "      <td>660.000000</td>\n",
       "    </tr>\n",
       "    <tr>\n",
       "      <td>25%</td>\n",
       "      <td>2.199775e+09</td>\n",
       "      <td>3.150000e+05</td>\n",
       "      <td>3.000000</td>\n",
       "      <td>1.500000</td>\n",
       "      <td>1430.000000</td>\n",
       "      <td>5.453750e+03</td>\n",
       "      <td>1.000000</td>\n",
       "      <td>0.000000</td>\n",
       "      <td>0.000000</td>\n",
       "      <td>3.000000</td>\n",
       "      <td>7.000000</td>\n",
       "      <td>1190.000000</td>\n",
       "      <td>0.000000</td>\n",
       "      <td>1950.000000</td>\n",
       "      <td>0.000000</td>\n",
       "      <td>98032.000000</td>\n",
       "      <td>47.459575</td>\n",
       "      <td>-122.324250</td>\n",
       "      <td>1480.000000</td>\n",
       "      <td>5429.500000</td>\n",
       "    </tr>\n",
       "    <tr>\n",
       "      <td>50%</td>\n",
       "      <td>4.027701e+09</td>\n",
       "      <td>4.450000e+05</td>\n",
       "      <td>3.000000</td>\n",
       "      <td>2.000000</td>\n",
       "      <td>1910.000000</td>\n",
       "      <td>8.000000e+03</td>\n",
       "      <td>1.000000</td>\n",
       "      <td>0.000000</td>\n",
       "      <td>0.000000</td>\n",
       "      <td>3.000000</td>\n",
       "      <td>7.000000</td>\n",
       "      <td>1545.000000</td>\n",
       "      <td>0.000000</td>\n",
       "      <td>1969.000000</td>\n",
       "      <td>0.000000</td>\n",
       "      <td>98059.000000</td>\n",
       "      <td>47.572500</td>\n",
       "      <td>-122.226000</td>\n",
       "      <td>1830.000000</td>\n",
       "      <td>7873.000000</td>\n",
       "    </tr>\n",
       "    <tr>\n",
       "      <td>75%</td>\n",
       "      <td>7.358175e+09</td>\n",
       "      <td>6.402500e+05</td>\n",
       "      <td>4.000000</td>\n",
       "      <td>2.500000</td>\n",
       "      <td>2500.000000</td>\n",
       "      <td>1.122250e+04</td>\n",
       "      <td>2.000000</td>\n",
       "      <td>0.000000</td>\n",
       "      <td>0.000000</td>\n",
       "      <td>4.000000</td>\n",
       "      <td>8.000000</td>\n",
       "      <td>2150.000000</td>\n",
       "      <td>600.000000</td>\n",
       "      <td>1990.000000</td>\n",
       "      <td>0.000000</td>\n",
       "      <td>98117.000000</td>\n",
       "      <td>47.680250</td>\n",
       "      <td>-122.124000</td>\n",
       "      <td>2360.000000</td>\n",
       "      <td>10408.250000</td>\n",
       "    </tr>\n",
       "    <tr>\n",
       "      <td>max</td>\n",
       "      <td>9.839301e+09</td>\n",
       "      <td>5.350000e+06</td>\n",
       "      <td>8.000000</td>\n",
       "      <td>6.000000</td>\n",
       "      <td>8010.000000</td>\n",
       "      <td>1.651359e+06</td>\n",
       "      <td>3.500000</td>\n",
       "      <td>1.000000</td>\n",
       "      <td>4.000000</td>\n",
       "      <td>5.000000</td>\n",
       "      <td>12.000000</td>\n",
       "      <td>6720.000000</td>\n",
       "      <td>2620.000000</td>\n",
       "      <td>2015.000000</td>\n",
       "      <td>2015.000000</td>\n",
       "      <td>98199.000000</td>\n",
       "      <td>47.777600</td>\n",
       "      <td>-121.315000</td>\n",
       "      <td>5790.000000</td>\n",
       "      <td>425581.000000</td>\n",
       "    </tr>\n",
       "  </tbody>\n",
       "</table>\n",
       "</div>"
      ],
      "text/plain": [
       "                 id         price     bedrooms    bathrooms  sqft_living  \\\n",
       "count  3.164000e+03  3.164000e+03  3164.000000  3164.000000  3164.000000   \n",
       "mean   4.645240e+09  5.354358e+05     3.381163     2.071903  2070.027813   \n",
       "std    2.854203e+09  3.809004e+05     0.895472     0.768212   920.251879   \n",
       "min    1.000102e+06  7.500000e+04     0.000000     0.000000   380.000000   \n",
       "25%    2.199775e+09  3.150000e+05     3.000000     1.500000  1430.000000   \n",
       "50%    4.027701e+09  4.450000e+05     3.000000     2.000000  1910.000000   \n",
       "75%    7.358175e+09  6.402500e+05     4.000000     2.500000  2500.000000   \n",
       "max    9.839301e+09  5.350000e+06     8.000000     6.000000  8010.000000   \n",
       "\n",
       "           sqft_lot       floors   waterfront         view    condition  \\\n",
       "count  3.164000e+03  3164.000000  3164.000000  3164.000000  3164.000000   \n",
       "mean   1.525054e+04     1.434893     0.009798     0.244311     3.459229   \n",
       "std    4.254457e+04     0.507792     0.098513     0.776298     0.682592   \n",
       "min    6.490000e+02     1.000000     0.000000     0.000000     1.000000   \n",
       "25%    5.453750e+03     1.000000     0.000000     0.000000     3.000000   \n",
       "50%    8.000000e+03     1.000000     0.000000     0.000000     3.000000   \n",
       "75%    1.122250e+04     2.000000     0.000000     0.000000     4.000000   \n",
       "max    1.651359e+06     3.500000     1.000000     4.000000     5.000000   \n",
       "\n",
       "             grade   sqft_above  sqft_basement     yr_built  yr_renovated  \\\n",
       "count  3164.000000  3164.000000    3164.000000  3164.000000   3164.000000   \n",
       "mean      7.615676  1761.252212     308.775601  1967.489254     94.668774   \n",
       "std       1.166324   815.934864     458.977904    28.095275    424.439427   \n",
       "min       3.000000   380.000000       0.000000  1900.000000      0.000000   \n",
       "25%       7.000000  1190.000000       0.000000  1950.000000      0.000000   \n",
       "50%       7.000000  1545.000000       0.000000  1969.000000      0.000000   \n",
       "75%       8.000000  2150.000000     600.000000  1990.000000      0.000000   \n",
       "max      12.000000  6720.000000    2620.000000  2015.000000   2015.000000   \n",
       "\n",
       "            zipcode          lat         long  sqft_living15     sqft_lot15  \n",
       "count   3164.000000  3164.000000  3164.000000    3164.000000    3164.000000  \n",
       "mean   98077.125158    47.557868  -122.212337    1982.544564   13176.302465  \n",
       "std       54.172937     0.140789     0.139577     686.256670   25413.180755  \n",
       "min    98001.000000    47.177500  -122.514000     620.000000     660.000000  \n",
       "25%    98032.000000    47.459575  -122.324250    1480.000000    5429.500000  \n",
       "50%    98059.000000    47.572500  -122.226000    1830.000000    7873.000000  \n",
       "75%    98117.000000    47.680250  -122.124000    2360.000000   10408.250000  \n",
       "max    98199.000000    47.777600  -121.315000    5790.000000  425581.000000  "
      ]
     },
     "execution_count": 218,
     "metadata": {},
     "output_type": "execute_result"
    }
   ],
   "source": [
    "#load the data\n",
    "df = pd.read_csv('kc_house_data.csv', sep = ',')\n",
    "\n",
    "#remove the data samples with missing values (NaN)\n",
    "df = df.dropna() \n",
    "\n",
    "df.describe()"
   ]
  },
  {
   "cell_type": "markdown",
   "metadata": {},
   "source": [
    "Extract input and output data. We want to predict the price by using features other than id as input."
   ]
  },
  {
   "cell_type": "code",
   "execution_count": 219,
   "metadata": {},
   "outputs": [],
   "source": [
    "Data = df.values\n",
    "# m = number of input samples\n",
    "m = 3164\n",
    "Y = Data[:m,2]\n",
    "X = Data[:m,3:]"
   ]
  },
  {
   "cell_type": "markdown",
   "metadata": {},
   "source": [
    "## Data Pre-Processing\n",
    "\n",
    "Split the data into training  set of $m_{train}=50$ samples and a test set of $m_{test}:=m-m_{train}$ samples."
   ]
  },
  {
   "cell_type": "code",
   "execution_count": 220,
   "metadata": {},
   "outputs": [],
   "source": [
    "# Split data into train (50 samples) and test data (the rest)\n",
    "m_train = 50\n",
    "\n",
    "m_test = m - m_train \n",
    "from sklearn.model_selection import train_test_split\n",
    "\n",
    "Xtrain, Xtest, Ytrain, Ytest = train_test_split(X, Y, test_size=m_test/m, random_state=numero_di_matricola)\n"
   ]
  },
  {
   "cell_type": "markdown",
   "metadata": {},
   "source": [
    "Standardize the data."
   ]
  },
  {
   "cell_type": "code",
   "execution_count": 221,
   "metadata": {},
   "outputs": [],
   "source": [
    "# Data pre-processing\n",
    "from sklearn import preprocessing\n",
    "scaler = preprocessing.StandardScaler().fit(Xtrain)\n",
    "Xtrain_scaled = scaler.transform(Xtrain)\n",
    "Xtest_scaled = scaler.transform(Xtest)"
   ]
  },
  {
   "cell_type": "markdown",
   "metadata": {},
   "source": [
    "## Linear Regression with Squared Loss Solution\n",
    "\n",
    "Now compute the solution for linear regression with squared loss (i.e., the Least-Squares estimate) using LinearRegression() in Scikit-learn, and print the corresponding average loss in training and test data.\n",
    "\n",
    "Since the average loss can be quite high, we also compute the coefficient of determination $R^2$ and look at $1 - R^{2}$ to have an idea of what the average loss amounts to. To compute the coefficient of determination you can use the \"score(...)\" function."
   ]
  },
  {
   "cell_type": "code",
   "execution_count": 222,
   "metadata": {},
   "outputs": [
    {
     "name": "stdout",
     "output_type": "stream",
     "text": [
      "Average loss in training data:28679086732.700367\n",
      "Average loss in test data:77034213848.04132\n",
      "1 - coefficient of determination on training data:0.1975613342972372\n",
      "1 - coefficient of determination on test data:0.5312950213775487\n"
     ]
    }
   ],
   "source": [
    "# Least-Squares\n",
    "from sklearn import linear_model \n",
    "#LR the linear regression model\n",
    "LR = linear_model.LinearRegression()\n",
    "\n",
    "#fit the model on training data\n",
    "LR.fit(Xtrain_scaled, Ytrain)\n",
    "\n",
    "#obtain predictions on training data\n",
    "Ytrain_predicted = LR.predict(Xtrain_scaled)\n",
    "\n",
    "#obtain predictions on test data\n",
    "Ytest_predicted = LR.predict(Xtest_scaled)\n",
    "\n",
    "#coefficients from the model\n",
    "w_LR = np.hstack((LR.intercept_, LR.coef_))\n",
    "\n",
    "#average error in training data\n",
    "loss_train = np.linalg.norm(Ytrain - Ytrain_predicted)**2/m_train\n",
    "\n",
    "#average error in test data\n",
    "loss_test =np.linalg.norm(Ytest - Ytest_predicted)**2/m_test\n",
    "\n",
    "#print average loss in training data and in test data\n",
    "print(\"Average loss in training data:\"+str(loss_train))\n",
    "print(\"Average loss in test data:\"+str(loss_test))\n",
    "\n",
    "#print 1 - coefficient of determination in training data and in test data\n",
    "print(\"1 - coefficient of determination on training data:\"+str(1 - LR.score(Xtrain_scaled,Ytrain)))\n",
    "print(\"1 - coefficient of determination on test data:\"+str(1 - LR.score(Xtest_scaled,Ytest)))"
   ]
  },
  {
   "cell_type": "markdown",
   "metadata": {},
   "source": [
    "### Confidence Intervals\n",
    "\n",
    "We now compute the confidence interval for each coefficient."
   ]
  },
  {
   "cell_type": "code",
   "execution_count": 223,
   "metadata": {},
   "outputs": [],
   "source": [
    "# Least-Squares: Confidence Intervals\n",
    "from scipy.stats import t\n",
    "\n",
    "Xtrain_im_testrcept = np.hstack((np.ones((Xtrain_scaled.shape[0],1)), Xtrain_scaled))\n",
    "\n",
    "#alpha for confidence intervals\n",
    "alpha = 0.05\n",
    "\n",
    "d = Xtrain_scaled.shape[1]-1\n",
    "\n",
    "#quantile from t-student distribution\n",
    "tperc = t.ppf(1-alpha/2, m_train-d-1, loc=0, scale=1)\n",
    "sigma2 = np.linalg.norm(Ytrain-Ytrain_predicted)**2/(m_train-d-1)\n",
    "\n",
    "R = np.dot(Xtrain_im_testrcept.transpose(),Xtrain_im_testrcept)\n",
    "Ur, Sr, Vr = np.linalg.svd(R, full_matrices=1, compute_uv=1)\n",
    "\n",
    "\n",
    "Sri = 1/Sr\n",
    "Sri = Sri*(Sri<1e10)\n",
    "\n",
    "Ri2 = np.dot(Ur,np.dot(np.diag(Sri),np.transpose(Ur)))\n",
    "\n",
    "v = np.sqrt(np.diag(Ri2))\n",
    "Delta = np.sqrt(sigma2)*v*tperc\n",
    "CI = np.transpose(np.vstack((w_LR,w_LR))) + np.transpose(np.vstack((-Delta,+Delta) ))"
   ]
  },
  {
   "cell_type": "markdown",
   "metadata": {},
   "source": [
    "Plot the LS coefficients and their confidence intervals."
   ]
  },
  {
   "cell_type": "code",
   "execution_count": 224,
   "metadata": {},
   "outputs": [
    {
     "data": {
      "image/png": "[encoded data removed]",
      "text/plain": [
       "<Figure size 432x288 with 1 Axes>"
      ]
     },
     "metadata": {
      "needs_background": "light"
     },
     "output_type": "display_data"
    }
   ],
   "source": [
    "# Plot confidence\n",
    "plt.figure(1)\n",
    "plt.plot(w_LR[1:], 'r', marker='o', ms=7.0)\n",
    "plt.plot(CI[1:,0], 'b--')\n",
    "plt.plot(CI[1:,1], 'b--')\n",
    "plt.plot(np.zeros(w_LR.shape[0],), 'k', linewidth=2.0)\n",
    "plt.xlabel('Coefficient Index')\n",
    "plt.ylabel('LR Coefficient')\n",
    "plt.title('Coefficients and Confidence Sets')\n",
    "plt.show()"
   ]
  },
  {
   "cell_type": "markdown",
   "metadata": {},
   "source": [
    "### Question: based on the results above, if you had to choose at most 4 features for a linear regression model, which ones would you choose? Why?\n",
    "\n",
    "### TO DO 2\n",
    "Answer the question above (max 5 lines)\n",
    "\n",
    "The paramethers that I would choose are the ones which have the coefficient intervals tight and the LR coefficients in absolute value greater. I would exclude parameters which have the coefficent intervals that could contain 0. So the parameters that I would choose are the ones with indexes: 4, 8, 9, 14 that are respectively bathrooms, waterfront, view and yr_built. Without the help of confidence intervals, I wouldn't choose bathrooms and waterfront because these two are not fundamental for house pricing. Other features like sqft_living and yr_renovated are more important."
   ]
  },
  {
   "cell_type": "markdown",
   "metadata": {},
   "source": [
    "## Best-Subset Selection\n",
    "\n",
    "Split the (previous) training data (i.e., the 50 samples chosen above) into a training data and validation dataset to perform best-subset selection. For splitting, put 50% of the data into the validation set.\n",
    "\n",
    "For $k$ going from 1 to $n_{sub}=4$:\n",
    "1. Compute the best model for all the possible subsets of $k$ features\n",
    "2. Compute the prediction error on the validation dataset\n",
    "\n",
    "Finally we choose the subset of $k^*$ features giving the lowest validation error.\n"
   ]
  },
  {
   "cell_type": "code",
   "execution_count": 225,
   "metadata": {},
   "outputs": [
    {
     "name": "stdout",
     "output_type": "stream",
     "text": [
      "Validation error as a function of k (starting at k=2): [9.81523343e+10 8.79332761e+10 7.47031824e+10 5.61468411e+10]\n"
     ]
    }
   ],
   "source": [
    "import itertools\n",
    "import math \n",
    "\n",
    "m_trainBSS=int(math.ceil(m_train/2))\n",
    "m_valBSS=m_train-m_trainBSS\n",
    "\n",
    "\n",
    "Xtrain_BSS = Xtrain_scaled[:m_trainBSS,:]\n",
    "Ytrain_BSS = Ytrain[:m_trainBSS]\n",
    "Xval_BSS = Xtrain_scaled[m_trainBSS:,:]\n",
    "Yval_BSS = Ytrain[m_trainBSS:,]\n",
    "\n",
    "nsub = 4\n",
    "features_idx_dict = {}\n",
    "validation_err_dict = {}\n",
    "validation_err_min = np.zeros(nsub,)\n",
    "validation_err_min_idx = np.zeros(nsub, dtype=np.int64)\n",
    "for k in range(1,nsub+1):\n",
    "    features_idx = list(itertools.combinations(range(Xtrain_BSS.shape[1]),k))\n",
    "    validation_error = np.zeros(len(features_idx),)\n",
    "    for j in range(len(features_idx)):\n",
    "        LR_subset = linear_model.LinearRegression()\n",
    "        LR_subset.fit(Xtrain_BSS[:,features_idx[j]], Ytrain_BSS)\n",
    "        validation_error[j] = np.linalg.norm(Yval_BSS - LR_subset.predict(Xval_BSS[:,features_idx[j]]))**2/m_valBSS \n",
    "    validation_err_min[k-1] = np.min(validation_error)    \n",
    "    validation_err_min_idx[k-1] = np.argmin(validation_error)\n",
    "    features_idx_dict.update({k: features_idx})\n",
    "    validation_err_dict.update({k: validation_error})\n",
    "    \n",
    "print(\"Validation error as a function of k (starting at k=2): \"+str(validation_err_min))"
   ]
  },
  {
   "cell_type": "markdown",
   "metadata": {},
   "source": [
    "Plot the validation error as a function of the number of retained features."
   ]
  },
  {
   "cell_type": "code",
   "execution_count": 226,
   "metadata": {},
   "outputs": [
    {
     "data": {
      "image/png": "[encoded data removed]",
      "text/plain": [
       "<Figure size 432x288 with 1 Axes>"
      ]
     },
     "metadata": {
      "needs_background": "light"
     },
     "output_type": "display_data"
    }
   ],
   "source": [
    "# Plot\n",
    "plt.figure(2)\n",
    "for k in range(1,nsub+1):\n",
    "    plt.scatter(k*np.ones(validation_err_dict[k].shape), validation_err_dict[k], color='k', alpha=0.5)\n",
    "    #plt.scatter(k, validation_err_min[k-1], color='r', alpha=0.8)\n",
    "    if k > 1:\n",
    "        plt.plot([k-1, k], [validation_err_min[k-2], validation_err_min[k-1]], color='r',marker='o', \n",
    "            markeredgecolor='k', markerfacecolor = 'r', markersize = 10)\n",
    "plt.xlabel('Number of retained features')\n",
    "plt.ylabel('Avg. validation error')\n",
    "plt.title('Best-Subset Selection')\n",
    "plt.show()"
   ]
  },
  {
   "cell_type": "markdown",
   "metadata": {},
   "source": [
    "Compute the model using the selected subset of features."
   ]
  },
  {
   "cell_type": "markdown",
   "metadata": {},
   "source": [
    "### TO DO 3: pick the number of features for the best subset according to figure above, learn the model on the entire training data (i.e., the 50 samples chosen at the beginning), and compute score on training and on test data"
   ]
  },
  {
   "cell_type": "code",
   "execution_count": 227,
   "metadata": {},
   "outputs": [
    {
     "name": "stdout",
     "output_type": "stream",
     "text": [
      "(4, 8, 9, 14)\n",
      "Average loss in training data:43228822494.80301\n",
      "Average loss in test data:80753240212.41641\n",
      "1 - coefficient of determination of best subset on training data: 0.29778995167352595\n",
      "1 - coefficient of determination of best subset on test data: 0.556944665776622\n"
     ]
    }
   ],
   "source": [
    "LR_best_subset = linear_model.LinearRegression()\n",
    "\n",
    "# now pick the number of features according to best subset\n",
    "opt_num_features = 4# COMPLETE\n",
    "\n",
    "#opt_features_idx contains the indices of the features from best subset\n",
    "opt_features_idx = features_idx_dict[opt_num_features][validation_err_min_idx[3]]#[5, 9, 10, 14]# COMPLETE\n",
    "\n",
    "#let's print the indices of the features from best subset\n",
    "print(opt_features_idx)\n",
    "\n",
    "#fit the best subset on the entire training set\n",
    "LR_best_subset.fit(Xtrain_scaled[:,opt_features_idx], Ytrain)\n",
    "\n",
    "#obtain predictions on training data\n",
    "Ytrain_predicted_best_subset = LR_best_subset.predict(Xtrain_scaled[:,opt_features_idx])# COMPLETE\n",
    "\n",
    "#obtain predictions on test data\n",
    "Ytest_predicted_best_subset = LR_best_subset.predict(Xtest_scaled[:,opt_features_idx])# COMPLETE\n",
    "\n",
    "#average loss in training data\n",
    "loss_train_best_subset = np.linalg.norm(Ytrain - Ytrain_predicted_best_subset)**2/m_train# COMPLETE\n",
    "\n",
    "#average loss in test data\n",
    "loss_test_best_subset = np.linalg.norm(Ytest - Ytest_predicted_best_subset)**2/m_test# COMPLETE\n",
    "\n",
    "#print average loss in training data and in test data\n",
    "print(\"Average loss in training data:\"+str(loss_train_best_subset))\n",
    "print(\"Average loss in test data:\"+str(loss_test_best_subset))\n",
    "\n",
    "#now print 1-  the coefficient of determination on training and on test data to get an idea to what the average\n",
    "#loss corresponds to\n",
    "print(\"1 - coefficient of determination of best subset on training data: \"+str(1 - LR_best_subset.score(Xtrain_scaled[:,opt_features_idx],Ytrain)))\n",
    "print(\"1 - coefficient of determination of best subset on test data: \"+str(1 - LR_best_subset.score(Xtest_scaled[:,opt_features_idx],Ytest)))"
   ]
  },
  {
   "cell_type": "markdown",
   "metadata": {},
   "source": [
    "### TO DO 4: do the features from best subset selection correspond to the ones you would have chosen based on confidence intervals for the linear regression coefficients? Comment (max 5 lines)\n",
    "\n",
    "Yes, the features from subset selection are exactly the values that I've chose before with the help of confidence intervals."
   ]
  },
  {
   "cell_type": "markdown",
   "metadata": {},
   "source": [
    "## Lasso\n",
    "\n",
    "### TO DO 5\n",
    "Use the routine *lasso_path* from *sklearn.linear_regression* to compute the \"lasso path\" for different values of the regularization parameter $\\lambda$. You should first fix a grid a possible values of lambda (the variable \"lasso_lams\"). For each entry of the vector \"lasso_lams\" you should compute the corresponding model (The i-th column of the vector  \"lasso_coefs\" should contain the coefficients of the linear model computed using lasso_lams[i] as regularization parameter).\n",
    "\n",
    "Be careful that the grid should be chosen appropriately.\n",
    "\n",
    "Note that the parameter $\\lambda$ is called $\\alpha$ in the Lasso model from sklearn\n"
   ]
  },
  {
   "cell_type": "code",
   "execution_count": 228,
   "metadata": {},
   "outputs": [],
   "source": [
    "from sklearn.linear_model import lasso_path\n",
    "\n",
    "# select a grid of possible regularization parameters \n",
    "# (be carefull how this is chosen, you may have to refine the choice after having seen the results)\n",
    "\n",
    "#Note: lasso_lams is supposed to be a numpy array\n",
    "lasso_lams = np.array([1000, 1600, 3500, 5000, 8000, 20000, 30000, 40000, 50000, 60000, 70000, 80000, 90000, 100000, 500000])# COMPLETE\n",
    "\n",
    "# Use the function lasso_path to compute the \"lasso path\", passing in input the lambda values\n",
    "# you have specified in lasso_lams\n",
    "lasso_lams, lasso_coefs, _ = lasso_path(Xtrain_scaled, Ytrain, alphas = lasso_lams)# COMPLETE"
   ]
  },
  {
   "cell_type": "markdown",
   "metadata": {},
   "source": [
    "Evaluate the sparsity in the estimated coefficients as a function of the regularization parameter $\\lambda$: to this purpose, compute the number of non-zero entries in the estimated coefficient vector."
   ]
  },
  {
   "cell_type": "code",
   "execution_count": 229,
   "metadata": {},
   "outputs": [
    {
     "data": {
      "image/png": "[encoded data removed]",
      "text/plain": [
       "<Figure size 432x288 with 1 Axes>"
      ]
     },
     "metadata": {
      "needs_background": "light"
     },
     "output_type": "display_data"
    }
   ],
   "source": [
    "l0_coef_norm = np.zeros(len(lasso_lams),)\n",
    "\n",
    "for i in range(len(lasso_lams)):\n",
    "    l0_coef_norm[i] = sum(lasso_coefs[:,i]!=0)\n",
    "\n",
    "\n",
    "plt.figure(6)\n",
    "plt.plot(lasso_lams, l0_coef_norm, marker='o', markersize=5)\n",
    "plt.xlabel('Lambda')\n",
    "plt.ylabel('Number of non-zero coefficients')\n",
    "plt.title('Sparsity Degree')\n",
    "plt.show()"
   ]
  },
  {
   "cell_type": "markdown",
   "metadata": {},
   "source": [
    "### TO DO 6: explain the results you observe in the figure above (max 5 lines)\n",
    "\n",
    "As expected, increasing the lambda reduces the complexity of the model. LASSO needs huge lambda values in order to \n",
    "remove non useful features. The complexity of the model starts to decrase with lambda equals to 1k. More relevant lambda values wich reduces drastically the complecity model are in the range of [10k-100k]. "
   ]
  },
  {
   "cell_type": "markdown",
   "metadata": {},
   "source": [
    "### TO DO 7: Use k-fold Cross-Validation to fix the regularization parameter\n",
    "\n",
    "Use the scikit-learn built-in routine *Lasso* (from the *linear_regression* package) to compute the lasso  coefficients.\n",
    "\n",
    "Use *KFold* from *sklearn.cross_validation* to split the data (i.e. Xtrain_scaled and Ytrain) into the desired number of folds.\n",
    "\n",
    "Then pick $lam\\_opt$ to be the chosen value for the regularization parameter."
   ]
  },
  {
   "cell_type": "code",
   "execution_count": 230,
   "metadata": {},
   "outputs": [
    {
     "name": "stdout",
     "output_type": "stream",
     "text": [
      "Best value of the regularization parameter: 20000\n"
     ]
    }
   ],
   "source": [
    "from sklearn.model_selection import KFold\n",
    "num_folds = 5\n",
    "\n",
    "kf = KFold(n_splits = num_folds)\n",
    "\n",
    "#loss_lasso_kfold will contain the value of the loss\n",
    "loss_lasso_kfold = np.zeros(len(lasso_lams),)\n",
    "\n",
    "for i in range(len(lasso_lams)):\n",
    "    \n",
    "    #define a lasso model   using Lasso() for the i-th value of lam_values\n",
    "    lasso_kfold = linear_model.Lasso(lasso_lams[i])# COMPLETE\n",
    "    \n",
    "    for train_index, validation_index in kf.split(Xtrain_scaled):\n",
    "        Xtrain_kfold, Xval_kfold = Xtrain_scaled[train_index], Xtrain_scaled[validation_index]\n",
    "        Ytrain_kfold, Yval_kfold = Ytrain[train_index], Ytrain[validation_index]\n",
    "        \n",
    "        #learn the model using the training data from the k-fold\n",
    "        \n",
    "        # ADD CODE\n",
    "        lasso_kfold.fit(Xtrain_kfold, Ytrain_kfold)\n",
    "        \n",
    "        #compute the loss using the validation data from the k-fold\n",
    "\n",
    "        # ADD CODE\n",
    "        Ykfold_predicted = lasso_kfold.predict(Xval_kfold)\n",
    "        loss_lasso_kfold[i] += np.linalg.norm(Yval_kfold - Ykfold_predicted)**2/Xval_kfold.shape[0]#lasso_kfold.score(Xval_kfold, Yval_kfold)\n",
    "    \n",
    "# loss_lass_kfold should be the average loss observed in the folds\n",
    "loss_lasso_kfold /= num_folds    \n",
    "\n",
    "\n",
    "#choose the regularization parameter that minimizes the loss\n",
    "lasso_lam_opt = lasso_lams[np.argmin(loss_lasso_kfold)]# COMPLETE\n",
    "print(\"Best value of the regularization parameter:\", lasso_lam_opt)"
   ]
  },
  {
   "cell_type": "markdown",
   "metadata": {},
   "source": [
    "Plot the Cross-Validation estimate of the prediction error as a function of the regularization parameter"
   ]
  },
  {
   "cell_type": "code",
   "execution_count": 231,
   "metadata": {},
   "outputs": [
    {
     "data": {
      "image/png": "[encoded data removed]",
      "text/plain": [
       "<Figure size 432x288 with 1 Axes>"
      ]
     },
     "metadata": {
      "needs_background": "light"
     },
     "output_type": "display_data"
    },
    {
     "name": "stdout",
     "output_type": "stream",
     "text": [
      "Total number of coefficients:18\n",
      "Number of non-zero coefficients:14\n",
      "Best value of regularization parameter:20000\n"
     ]
    }
   ],
   "source": [
    "plt.figure(4)\n",
    "plt.xscale('log')\n",
    "plt.plot(lasso_lams, loss_lasso_kfold, color='b')\n",
    "plt.scatter(lasso_lams[np.argmin(loss_lasso_kfold)], loss_lasso_kfold[np.argmin(loss_lasso_kfold)], color='b', marker='o', linewidths=5)\n",
    "plt.xlabel('Lambda')\n",
    "plt.ylabel('Validation Error')\n",
    "plt.title('Lasso: choice of regularization parameter')\n",
    "plt.show()\n",
    "print(\"Total number of coefficients:\"+str(len(lasso_kfold.coef_)))\n",
    "print(\"Number of non-zero coefficients:\"+str(sum(lasso_kfold.coef_ != 0)))\n",
    "print(\"Best value of regularization parameter:\"+str(lasso_lam_opt))\n"
   ]
  },
  {
   "cell_type": "markdown",
   "metadata": {},
   "source": [
    "### TO DO 8 now estimate the lasso coefficients using all the training data and the optimal regularization parameter (chosen at previous step)"
   ]
  },
  {
   "cell_type": "code",
   "execution_count": 232,
   "metadata": {},
   "outputs": [
    {
     "name": "stdout",
     "output_type": "stream",
     "text": [
      "Average loss in training data:36233676799.80012\n",
      "Average loss in test data:61826292147.03146\n",
      "1 - coefficient of determination on training data:0.24960256237522593\n",
      "1 - coefficient of determination on test data:0.4264079500148863\n"
     ]
    }
   ],
   "source": [
    "# Estimate Lasso  Coefficients with all data (trainval) for the the optimal value lasso_lam_opt of the regularization paramter\n",
    "\n",
    "#define the model\n",
    "lasso_reg = linear_model.Lasso(20000)# COMPLETE\n",
    "\n",
    "#fit using the training data\n",
    "\n",
    "# ADD CODE\n",
    "lasso_reg.fit(Xtrain_scaled, Ytrain)\n",
    "\n",
    "#average loss on training data\n",
    "loss_train_lasso = np.linalg.norm(Ytrain - lasso_reg.predict(Xtrain_scaled))**2/Xtrain_scaled.shape[0]# COMPLETE\n",
    "#average loss on test data\n",
    "loss_test_lasso = np.linalg.norm(Ytest - lasso_reg.predict(Xtest_scaled))**2/Xtest_scaled.shape[0]# COMPLETE\n",
    "\n",
    "#print average loss in training data and in test data\n",
    "print(\"Average loss in training data:\"+str(loss_train_lasso))\n",
    "print(\"Average loss in test data:\"+str(loss_test_lasso))\n",
    "\n",
    "#now print 1-  the coefficient of determination on training and on test data to get an idea to what the average\n",
    "#loss corresponds to\n",
    "print(\"1 - coefficient of determination on training data:\"+str(1 - lasso_reg.score(Xtrain_scaled,Ytrain)))\n",
    "print(\"1 - coefficient of determination on test data:\"+str(1 - lasso_reg.score(Xtest_scaled,Ytest)))"
   ]
  },
  {
   "cell_type": "markdown",
   "metadata": {},
   "source": [
    "Compare the LR and the Lasso coefficients."
   ]
  },
  {
   "cell_type": "code",
   "execution_count": 233,
   "metadata": {},
   "outputs": [
    {
     "data": {
      "image/png": "[encoded data removed]",
      "text/plain": [
       "<Figure size 432x288 with 1 Axes>"
      ]
     },
     "metadata": {
      "needs_background": "light"
     },
     "output_type": "display_data"
    }
   ],
   "source": [
    "# Compare LR and lasso coefficients\n",
    "ind = np.arange(1,len(LR.coef_)+1)  # the x locations for the groups\n",
    "width = 0.35       # the width of the bars\n",
    "fig, ax = plt.subplots()\n",
    "rects1 = ax.bar(ind, LR.coef_, width, color='r')\n",
    "rects2 = ax.bar(ind + width, lasso_reg.coef_, width, color='y')\n",
    "ax.legend((rects1[0], rects2[0]), ('LR', 'Lasso'))\n",
    "plt.xlabel('Coefficient Idx')\n",
    "plt.ylabel('Coefficient Value')\n",
    "plt.title('LR and Lasso Coefficient')\n",
    "plt.show()"
   ]
  },
  {
   "cell_type": "markdown",
   "metadata": {},
   "source": [
    "## Ridge Regression\n",
    "\n",
    "## TO DO 9\n",
    "### Use Ridge regression with cross-validation\n",
    "\n",
    "We perform Ridge regression (i.e., linear regression with squared loss and L2 regularization) for different values of the regularization parameter $\\alpha$ (called $\\lambda$ in class), and use the Scikit-learn function to perform cross-validation (CV).\n",
    "\n",
    "In Ridge regression for scikit learn, the objective function is:\n",
    "\n",
    "$$\n",
    "    ||y - Xw||^2_2 + \\alpha * ||w||^2_2\n",
    "$$\n",
    "\n",
    "In the code below:\n",
    "- use RidgeCV() to select the best value of $\\alpha$ with a 5-fold CV with L2 penalty;\n",
    "- use Ridge() to learn the best model for the best $\\alpha$ for ridge regression using the entire training set (i.e., the 50 samples chosen at the beginning)\n",
    "\n",
    "Note that RidgeCV() picks some default values of $\\alpha$ to try, but we decide to pass the same values used for the Lasso.\n",
    "\n",
    "\n"
   ]
  },
  {
   "cell_type": "code",
   "execution_count": 234,
   "metadata": {},
   "outputs": [
    {
     "name": "stdout",
     "output_type": "stream",
     "text": [
      "Best value of parameter alpha according to 5-fold Cross-Validation: 10.5\n",
      "Average loss in training data:33347782815.433765\n",
      "Average loss in test data:60694912912.65265\n",
      "1 - coefficient of determination on training data:0.22972253371511864\n",
      "1 - coefficient of determination on test data:0.41860497359065596\n"
     ]
    }
   ],
   "source": [
    "#let's define the values of alpha to use\n",
    "ridge_alphas = [0.5, 1, 4, 7, 10, 10.5, 11, 20]# COMPLETE\n",
    "\n",
    "#define the model using RidgeCV passing the vector of alpha values and the cv value (= number of folds)\n",
    "ridge = linear_model.RidgeCV(ridge_alphas)# COMPLETE\n",
    "\n",
    "#fit the model on training data\n",
    "\n",
    "# ADD CODE\n",
    "ridge.fit(Xtrain_scaled, Ytrain)\n",
    "\n",
    "# the attribute 'alpha_' contains the best value of alpha as identified by cross-validation;\n",
    "# let's print it\n",
    "\n",
    "print(\"Best value of parameter alpha according to 5-fold Cross-Validation: \"+str(ridge.alpha_))\n",
    "\n",
    "#define the model using the best alpha; note that various solvers are availalbe, choose\n",
    "# an appropriate one\n",
    "ridge_final = linear_model.Ridge(ridge.alpha_)# COMPLETE\n",
    "\n",
    "#fit the model using the best C on the entire training set\n",
    "\n",
    "# ADD CODE\n",
    "ridge_final.fit(Xtrain_scaled, Ytrain)\n",
    "\n",
    "#average loss on training data\n",
    "loss_train_ridge = np.linalg.norm(Ytrain - ridge_final.predict(Xtrain_scaled))**2/Xtrain_scaled.shape[0]# COMPLETE\n",
    "\n",
    "#average loss on test data\n",
    "loss_test_ridge = np.linalg.norm(Ytest - ridge_final.predict(Xtest_scaled))**2/Xtest_scaled.shape[0]# COMPLETE\n",
    "\n",
    "#print average loss in training data and in test data\n",
    "print(\"Average loss in training data:\"+str(loss_train_ridge))\n",
    "print(\"Average loss in test data:\"+str(loss_test_ridge))\n",
    "\n",
    "#now print 1-  the coefficient of determination on training and on test data to get an idea to what the average\n",
    "#loss corresponds to\n",
    "print(\"1 - coefficient of determination on training data:\"+str(1 - ridge_final.score(Xtrain_scaled,Ytrain)))\n",
    "print(\"1 - coefficient of determination on test data:\"+str(1 - ridge_final.score(Xtest_scaled,Ytest)))"
   ]
  },
  {
   "cell_type": "markdown",
   "metadata": {},
   "source": [
    "Compare LR, Lasso, and Ridge regression coefficients"
   ]
  },
  {
   "cell_type": "code",
   "execution_count": 235,
   "metadata": {},
   "outputs": [
    {
     "data": {
      "image/png": "[encoded data removed]",
      "text/plain": [
       "<Figure size 432x288 with 1 Axes>"
      ]
     },
     "metadata": {
      "needs_background": "light"
     },
     "output_type": "display_data"
    }
   ],
   "source": [
    "# Compare LR and lasso coefficients\n",
    "ind = np.arange(1,len(LR.coef_)+1)  # the x locations for the groups\n",
    "width = 0.25       # the width of the bars\n",
    "fig, ax = plt.subplots()\n",
    "rects1 = ax.bar(ind, LR.coef_, width, color='r')\n",
    "rects2 = ax.bar(ind + width, lasso_reg.coef_, width, color='y')\n",
    "rects3 = ax.bar(ind + 2*width, ridge_final.coef_, width, color='b')\n",
    "ax.legend((rects1[0], rects2[0], rects3[0]), ('LR', 'Lasso', 'Ridge'))\n",
    "plt.xlabel('Coefficient Idx')\n",
    "plt.ylabel('Coefficient Value')\n",
    "plt.title('LR, Lasso, and Ridge Coefficient')\n",
    "plt.show()"
   ]
  },
  {
   "cell_type": "markdown",
   "metadata": {},
   "source": [
    "## TODO 10: comment on the coefficients obtained by the different methods and their comparison (max 5 lines)\n",
    "\n",
    "As expected all of three methods consider the 5th coefficient which determinees mostly the house pricing. Indexes 9 and 10 respectively View and Condition seems reasonable for house pricing, so they could be good features for the trained model. \n",
    "What is noticebale is that LASSO uses fewer less features than the other 2 methods. This can be decisive for the choice of the best method if the generalization error is relatively low compared to the other 2 methods."
   ]
  },
  {
   "cell_type": "markdown",
   "metadata": {},
   "source": [
    "\n",
    "\n",
    "## Comparison of models: evaluation of the performance on the test set\n",
    "\n"
   ]
  },
  {
   "cell_type": "code",
   "execution_count": 236,
   "metadata": {},
   "outputs": [
    {
     "name": "stdout",
     "output_type": "stream",
     "text": [
      "Average loss of LR on test data:77034213848.04132\n",
      "Average loss of LR with subset selection on test data:80753240212.41641\n",
      "Average loss of LASSO on test data:61826292147.03146\n",
      "Average loss of Ridge regression on test data:60694912912.65265\n",
      "1 - coefficient of determination of LR on test data:0.5312950213775487\n",
      "1 - coefficient of determination of LR with best subset on test data: 0.556944665776622\n",
      "1 - coefficient of determination of LASSO on test data:0.4264079500148863\n",
      "1 - coefficient of determination of Ridge regression on test data:0.41860497359065596\n"
     ]
    }
   ],
   "source": [
    "print(\"Average loss of LR on test data:\"+str(loss_test))\n",
    "print(\"Average loss of LR with subset selection on test data:\"+str(loss_test_best_subset))\n",
    "print(\"Average loss of LASSO on test data:\"+str(loss_test_lasso))\n",
    "print(\"Average loss of Ridge regression on test data:\"+str(loss_test_ridge))\n",
    "\n",
    "print(\"1 - coefficient of determination of LR on test data:\"+str(1 - LR.score(Xtest_scaled,Ytest)))\n",
    "print(\"1 - coefficient of determination of LR with best subset on test data: \"+str(1 - LR_best_subset.score(Xtest_scaled[:,opt_features_idx],Ytest)))\n",
    "print(\"1 - coefficient of determination of LASSO on test data:\"+str(1 - lasso_reg.score(Xtest_scaled,Ytest)))\n",
    "print(\"1 - coefficient of determination of Ridge regression on test data:\"+str(1 - ridge_final.score(Xtest_scaled,Ytest)))"
   ]
  },
  {
   "cell_type": "markdown",
   "metadata": {},
   "source": [
    "## TODO 11: comment and compare the results obtained by the different methods (max 5 lines)\n",
    "\n",
    "Linear regression has the worst results since it considers only the estimated true loss but the complexity of the model is not considered (so overfitting could occur). Looking only the results above and not considering the chart, the better method is Ridge Regression. The error is smaller than LASSO, so there could be a temptation to choose Ridge Regression. On the other hand, the error of LASSO is good too and the difference between Ridge regression and LASSO, is less than 0.1. For this reason, further considerations should therefore be taken into account when choosing the best method."
   ]
  },
  {
   "cell_type": "markdown",
   "metadata": {},
   "source": [
    "## TODO 12: using your final model of choice (write which one you choose), what are the features that seem more relevant for the prices of houses? Does this match your intuition?\n",
    "\n",
    "The model that I've choose is LASSO because it has a good generalization error (just 0.1 higher than Ridge) and the number of features selected are lower than the other 2 methods which is significant for the reduction of computational power to train the model. \n",
    "The features that seems more relevant are: sqft_living, view, condition, sqft_above, yr_renovated. All of those features excluded sqft_above, are what I've expected since the price of the houses in reality are determineed mainly by those features. "
   ]
  },
  {
   "cell_type": "markdown",
   "metadata": {},
   "source": [
    "### SUGGESTION (not compulsory): repeat the entire analysis above using a different data size, and try to understand the differences that you observe\n",
    "\n"
   ]
  },
  {
   "cell_type": "code",
   "execution_count": null,
   "metadata": {},
   "outputs": [],
   "source": []
  }
 ],
 "metadata": {
  "anaconda-cloud": {},
  "kernelspec": {
   "display_name": "Python 3",
   "language": "python",
   "name": "python3"
  },
  "language_info": {
   "codemirror_mode": {
    "name": "ipython",
    "version": 3
   },
   "file_extension": ".py",
   "mimetype": "text/x-python",
   "name": "python",
   "nbconvert_exporter": "python",
   "pygments_lexer": "ipython3",
   "version": "3.7.4"
  }
 },
 "nbformat": 4,
 "nbformat_minor": 4
}
